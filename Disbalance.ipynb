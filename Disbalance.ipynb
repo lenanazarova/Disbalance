{
 "cells": [
  {
   "cell_type": "markdown",
   "metadata": {},
   "source": [
    "# 1. Подготовка данных"
   ]
  },
  {
   "cell_type": "code",
   "execution_count": 1,
   "metadata": {},
   "outputs": [],
   "source": [
    "#библиотеки\n",
    "import pandas as pd\n",
    "from sklearn.preprocessing import OrdinalEncoder\n",
    "from sklearn.model_selection import train_test_split\n",
    "from sklearn.tree import DecisionTreeClassifier\n",
    "from sklearn.ensemble import RandomForestClassifier\n",
    "from sklearn.linear_model import LogisticRegression\n",
    "from sklearn.metrics import accuracy_score\n",
    "import numpy as np\n",
    "from sklearn import svm\n",
    "from sklearn.dummy import DummyClassifier\n",
    "from sklearn.model_selection import cross_val_score\n",
    "from sklearn.model_selection import GridSearchCV\n",
    "from sklearn.metrics import mean_squared_error,mean_absolute_error,f1_score,r2_score,roc_auc_score\n",
    "from sklearn.utils import shuffle"
   ]
  },
  {
   "cell_type": "code",
   "execution_count": 2,
   "metadata": {},
   "outputs": [
    {
     "name": "stdout",
     "output_type": "stream",
     "text": [
      "<class 'pandas.core.frame.DataFrame'>\n",
      "RangeIndex: 10000 entries, 0 to 9999\n",
      "Data columns (total 14 columns):\n",
      "RowNumber          10000 non-null int64\n",
      "CustomerId         10000 non-null int64\n",
      "Surname            10000 non-null object\n",
      "CreditScore        10000 non-null int64\n",
      "Geography          10000 non-null object\n",
      "Gender             10000 non-null object\n",
      "Age                10000 non-null int64\n",
      "Tenure             9091 non-null float64\n",
      "Balance            10000 non-null float64\n",
      "NumOfProducts      10000 non-null int64\n",
      "HasCrCard          10000 non-null int64\n",
      "IsActiveMember     10000 non-null int64\n",
      "EstimatedSalary    10000 non-null float64\n",
      "Exited             10000 non-null int64\n",
      "dtypes: float64(3), int64(8), object(3)\n",
      "memory usage: 1.1+ MB\n"
     ]
    }
   ],
   "source": [
    "data = pd.read_csv('/datasets/Churn.csv')\n",
    "data.info()"
   ]
  },
  {
   "cell_type": "code",
   "execution_count": 3,
   "metadata": {},
   "outputs": [
    {
     "data": {
      "text/html": [
       "<div>\n",
       "<style scoped>\n",
       "    .dataframe tbody tr th:only-of-type {\n",
       "        vertical-align: middle;\n",
       "    }\n",
       "\n",
       "    .dataframe tbody tr th {\n",
       "        vertical-align: top;\n",
       "    }\n",
       "\n",
       "    .dataframe thead th {\n",
       "        text-align: right;\n",
       "    }\n",
       "</style>\n",
       "<table border=\"1\" class=\"dataframe\">\n",
       "  <thead>\n",
       "    <tr style=\"text-align: right;\">\n",
       "      <th></th>\n",
       "      <th>RowNumber</th>\n",
       "      <th>CustomerId</th>\n",
       "      <th>Surname</th>\n",
       "      <th>CreditScore</th>\n",
       "      <th>Geography</th>\n",
       "      <th>Gender</th>\n",
       "      <th>Age</th>\n",
       "      <th>Tenure</th>\n",
       "      <th>Balance</th>\n",
       "      <th>NumOfProducts</th>\n",
       "      <th>HasCrCard</th>\n",
       "      <th>IsActiveMember</th>\n",
       "      <th>EstimatedSalary</th>\n",
       "      <th>Exited</th>\n",
       "    </tr>\n",
       "  </thead>\n",
       "  <tbody>\n",
       "    <tr>\n",
       "      <td>0</td>\n",
       "      <td>1</td>\n",
       "      <td>15634602</td>\n",
       "      <td>Hargrave</td>\n",
       "      <td>619</td>\n",
       "      <td>France</td>\n",
       "      <td>Female</td>\n",
       "      <td>42</td>\n",
       "      <td>2.0</td>\n",
       "      <td>0.00</td>\n",
       "      <td>1</td>\n",
       "      <td>1</td>\n",
       "      <td>1</td>\n",
       "      <td>101348.88</td>\n",
       "      <td>1</td>\n",
       "    </tr>\n",
       "    <tr>\n",
       "      <td>1</td>\n",
       "      <td>2</td>\n",
       "      <td>15647311</td>\n",
       "      <td>Hill</td>\n",
       "      <td>608</td>\n",
       "      <td>Spain</td>\n",
       "      <td>Female</td>\n",
       "      <td>41</td>\n",
       "      <td>1.0</td>\n",
       "      <td>83807.86</td>\n",
       "      <td>1</td>\n",
       "      <td>0</td>\n",
       "      <td>1</td>\n",
       "      <td>112542.58</td>\n",
       "      <td>0</td>\n",
       "    </tr>\n",
       "    <tr>\n",
       "      <td>2</td>\n",
       "      <td>3</td>\n",
       "      <td>15619304</td>\n",
       "      <td>Onio</td>\n",
       "      <td>502</td>\n",
       "      <td>France</td>\n",
       "      <td>Female</td>\n",
       "      <td>42</td>\n",
       "      <td>8.0</td>\n",
       "      <td>159660.80</td>\n",
       "      <td>3</td>\n",
       "      <td>1</td>\n",
       "      <td>0</td>\n",
       "      <td>113931.57</td>\n",
       "      <td>1</td>\n",
       "    </tr>\n",
       "    <tr>\n",
       "      <td>3</td>\n",
       "      <td>4</td>\n",
       "      <td>15701354</td>\n",
       "      <td>Boni</td>\n",
       "      <td>699</td>\n",
       "      <td>France</td>\n",
       "      <td>Female</td>\n",
       "      <td>39</td>\n",
       "      <td>1.0</td>\n",
       "      <td>0.00</td>\n",
       "      <td>2</td>\n",
       "      <td>0</td>\n",
       "      <td>0</td>\n",
       "      <td>93826.63</td>\n",
       "      <td>0</td>\n",
       "    </tr>\n",
       "    <tr>\n",
       "      <td>4</td>\n",
       "      <td>5</td>\n",
       "      <td>15737888</td>\n",
       "      <td>Mitchell</td>\n",
       "      <td>850</td>\n",
       "      <td>Spain</td>\n",
       "      <td>Female</td>\n",
       "      <td>43</td>\n",
       "      <td>2.0</td>\n",
       "      <td>125510.82</td>\n",
       "      <td>1</td>\n",
       "      <td>1</td>\n",
       "      <td>1</td>\n",
       "      <td>79084.10</td>\n",
       "      <td>0</td>\n",
       "    </tr>\n",
       "    <tr>\n",
       "      <td>...</td>\n",
       "      <td>...</td>\n",
       "      <td>...</td>\n",
       "      <td>...</td>\n",
       "      <td>...</td>\n",
       "      <td>...</td>\n",
       "      <td>...</td>\n",
       "      <td>...</td>\n",
       "      <td>...</td>\n",
       "      <td>...</td>\n",
       "      <td>...</td>\n",
       "      <td>...</td>\n",
       "      <td>...</td>\n",
       "      <td>...</td>\n",
       "      <td>...</td>\n",
       "    </tr>\n",
       "    <tr>\n",
       "      <td>9995</td>\n",
       "      <td>9996</td>\n",
       "      <td>15606229</td>\n",
       "      <td>Obijiaku</td>\n",
       "      <td>771</td>\n",
       "      <td>France</td>\n",
       "      <td>Male</td>\n",
       "      <td>39</td>\n",
       "      <td>5.0</td>\n",
       "      <td>0.00</td>\n",
       "      <td>2</td>\n",
       "      <td>1</td>\n",
       "      <td>0</td>\n",
       "      <td>96270.64</td>\n",
       "      <td>0</td>\n",
       "    </tr>\n",
       "    <tr>\n",
       "      <td>9996</td>\n",
       "      <td>9997</td>\n",
       "      <td>15569892</td>\n",
       "      <td>Johnstone</td>\n",
       "      <td>516</td>\n",
       "      <td>France</td>\n",
       "      <td>Male</td>\n",
       "      <td>35</td>\n",
       "      <td>10.0</td>\n",
       "      <td>57369.61</td>\n",
       "      <td>1</td>\n",
       "      <td>1</td>\n",
       "      <td>1</td>\n",
       "      <td>101699.77</td>\n",
       "      <td>0</td>\n",
       "    </tr>\n",
       "    <tr>\n",
       "      <td>9997</td>\n",
       "      <td>9998</td>\n",
       "      <td>15584532</td>\n",
       "      <td>Liu</td>\n",
       "      <td>709</td>\n",
       "      <td>France</td>\n",
       "      <td>Female</td>\n",
       "      <td>36</td>\n",
       "      <td>7.0</td>\n",
       "      <td>0.00</td>\n",
       "      <td>1</td>\n",
       "      <td>0</td>\n",
       "      <td>1</td>\n",
       "      <td>42085.58</td>\n",
       "      <td>1</td>\n",
       "    </tr>\n",
       "    <tr>\n",
       "      <td>9998</td>\n",
       "      <td>9999</td>\n",
       "      <td>15682355</td>\n",
       "      <td>Sabbatini</td>\n",
       "      <td>772</td>\n",
       "      <td>Germany</td>\n",
       "      <td>Male</td>\n",
       "      <td>42</td>\n",
       "      <td>3.0</td>\n",
       "      <td>75075.31</td>\n",
       "      <td>2</td>\n",
       "      <td>1</td>\n",
       "      <td>0</td>\n",
       "      <td>92888.52</td>\n",
       "      <td>1</td>\n",
       "    </tr>\n",
       "    <tr>\n",
       "      <td>9999</td>\n",
       "      <td>10000</td>\n",
       "      <td>15628319</td>\n",
       "      <td>Walker</td>\n",
       "      <td>792</td>\n",
       "      <td>France</td>\n",
       "      <td>Female</td>\n",
       "      <td>28</td>\n",
       "      <td>NaN</td>\n",
       "      <td>130142.79</td>\n",
       "      <td>1</td>\n",
       "      <td>1</td>\n",
       "      <td>0</td>\n",
       "      <td>38190.78</td>\n",
       "      <td>0</td>\n",
       "    </tr>\n",
       "  </tbody>\n",
       "</table>\n",
       "<p>10000 rows × 14 columns</p>\n",
       "</div>"
      ],
      "text/plain": [
       "      RowNumber  CustomerId    Surname  CreditScore Geography  Gender  Age  \\\n",
       "0             1    15634602   Hargrave          619    France  Female   42   \n",
       "1             2    15647311       Hill          608     Spain  Female   41   \n",
       "2             3    15619304       Onio          502    France  Female   42   \n",
       "3             4    15701354       Boni          699    France  Female   39   \n",
       "4             5    15737888   Mitchell          850     Spain  Female   43   \n",
       "...         ...         ...        ...          ...       ...     ...  ...   \n",
       "9995       9996    15606229   Obijiaku          771    France    Male   39   \n",
       "9996       9997    15569892  Johnstone          516    France    Male   35   \n",
       "9997       9998    15584532        Liu          709    France  Female   36   \n",
       "9998       9999    15682355  Sabbatini          772   Germany    Male   42   \n",
       "9999      10000    15628319     Walker          792    France  Female   28   \n",
       "\n",
       "      Tenure    Balance  NumOfProducts  HasCrCard  IsActiveMember  \\\n",
       "0        2.0       0.00              1          1               1   \n",
       "1        1.0   83807.86              1          0               1   \n",
       "2        8.0  159660.80              3          1               0   \n",
       "3        1.0       0.00              2          0               0   \n",
       "4        2.0  125510.82              1          1               1   \n",
       "...      ...        ...            ...        ...             ...   \n",
       "9995     5.0       0.00              2          1               0   \n",
       "9996    10.0   57369.61              1          1               1   \n",
       "9997     7.0       0.00              1          0               1   \n",
       "9998     3.0   75075.31              2          1               0   \n",
       "9999     NaN  130142.79              1          1               0   \n",
       "\n",
       "      EstimatedSalary  Exited  \n",
       "0           101348.88       1  \n",
       "1           112542.58       0  \n",
       "2           113931.57       1  \n",
       "3            93826.63       0  \n",
       "4            79084.10       0  \n",
       "...               ...     ...  \n",
       "9995         96270.64       0  \n",
       "9996        101699.77       0  \n",
       "9997         42085.58       1  \n",
       "9998         92888.52       1  \n",
       "9999         38190.78       0  \n",
       "\n",
       "[10000 rows x 14 columns]"
      ]
     },
     "execution_count": 3,
     "metadata": {},
     "output_type": "execute_result"
    }
   ],
   "source": [
    "data"
   ]
  },
  {
   "cell_type": "markdown",
   "metadata": {},
   "source": [
    "Открыт и изучен файл, \n",
    "в таблице содержаться данные о 10 тысячах клиентов.\n",
    "\n",
    "Данные разделены на признаки,\n",
    "          3 из которых качественных,10 количественных и 1 целевой признак."
   ]
  },
  {
   "cell_type": "code",
   "execution_count": 4,
   "metadata": {},
   "outputs": [
    {
     "data": {
      "text/plain": [
       "RowNumber            0\n",
       "CustomerId           0\n",
       "Surname              0\n",
       "CreditScore          0\n",
       "Geography            0\n",
       "Gender               0\n",
       "Age                  0\n",
       "Tenure             909\n",
       "Balance              0\n",
       "NumOfProducts        0\n",
       "HasCrCard            0\n",
       "IsActiveMember       0\n",
       "EstimatedSalary      0\n",
       "Exited               0\n",
       "dtype: int64"
      ]
     },
     "execution_count": 4,
     "metadata": {},
     "output_type": "execute_result"
    }
   ],
   "source": [
    "#пропуски\n",
    "data.isnull().sum()"
   ]
  },
  {
   "cell_type": "code",
   "execution_count": 5,
   "metadata": {},
   "outputs": [],
   "source": [
    "#удалениие пропусков \n",
    "data = data.dropna(subset = ['Tenure'])"
   ]
  },
  {
   "cell_type": "code",
   "execution_count": 6,
   "metadata": {},
   "outputs": [
    {
     "data": {
      "text/plain": [
       "0"
      ]
     },
     "execution_count": 6,
     "metadata": {},
     "output_type": "execute_result"
    }
   ],
   "source": [
    "#проверка на наличие пропусков\n",
    "data.isnull().sum().sum()"
   ]
  },
  {
   "cell_type": "code",
   "execution_count": 7,
   "metadata": {},
   "outputs": [
    {
     "data": {
      "text/plain": [
       "0"
      ]
     },
     "execution_count": 7,
     "metadata": {},
     "output_type": "execute_result"
    }
   ],
   "source": [
    "#проверка на дубликаты \n",
    "data.duplicated().sum()"
   ]
  },
  {
   "cell_type": "code",
   "execution_count": null,
   "metadata": {},
   "outputs": [],
   "source": [
    "data.info()"
   ]
  },
  {
   "cell_type": "code",
   "execution_count": null,
   "metadata": {},
   "outputs": [],
   "source": [
    "#удаление столбцов\n",
    "data = data.drop(['Surname'],axis = 1)\n",
    "data = data.drop(['CustomerId'],axis = 1)\n",
    "data = data.drop(['RowNumber'],axis = 1)"
   ]
  },
  {
   "cell_type": "code",
   "execution_count": null,
   "metadata": {},
   "outputs": [],
   "source": [
    "data"
   ]
  },
  {
   "cell_type": "markdown",
   "metadata": {},
   "source": [
    "Данные были изучены на наличие пропусков и дубликатов.\n",
    "Строки с пропусками в данных о количестве недвижимости у клиента были удалены.\n",
    "Дубликаты отсутствуют.\n",
    "Удалены столбцы с данными об индексе,фамилии и уникальном индификаторе клиента."
   ]
  },
  {
   "cell_type": "markdown",
   "metadata": {},
   "source": [
    "# 2. Исследование задачи"
   ]
  },
  {
   "cell_type": "code",
   "execution_count": null,
   "metadata": {},
   "outputs": [],
   "source": [
    "#прямое кодирование \n",
    "data_ohe = pd.get_dummies(data,drop_first = True)"
   ]
  },
  {
   "cell_type": "code",
   "execution_count": null,
   "metadata": {},
   "outputs": [],
   "source": [
    "#количественное признаки \n",
    "features = data_ohe.drop(['Exited'],axis = 1)\n",
    "#целевой признак\n",
    "target = data_ohe['Exited']"
   ]
  },
  {
   "cell_type": "code",
   "execution_count": null,
   "metadata": {},
   "outputs": [],
   "source": [
    "#разделение на выборки \n",
    "features_t,features_valid,target_t,target_valid = train_test_split(features,target,test_size = 0.2,random_state = 42)\n",
    "features_train,features_test,target_train,target_test = train_test_split(features_t,target_t,test_size = 0.2,random_state = 42)"
   ]
  },
  {
   "cell_type": "markdown",
   "metadata": {},
   "source": [
    "Данные разбиты на три выборки :обучающую,тестовую и валидационную в соотношении 60:20:20"
   ]
  },
  {
   "cell_type": "code",
   "execution_count": null,
   "metadata": {},
   "outputs": [],
   "source": [
    "#выбор гиперпараметров\n",
    "n_estimators_array = [1, 3, 5, 7, 10, 15,20,25,30]\n",
    "max_depth_array = [1, 3, 5, 7, 10, 15,20,25]\n",
    "model_1 = RandomForestClassifier(random_state = 42)\n",
    "grid = GridSearchCV(model_1, param_grid={'n_estimators': n_estimators_array,'max_depth': max_depth_array})\n",
    "grid.fit(features_train,target_train)\n",
    "best_n_estimators = grid.best_estimator_.n_estimators\n",
    "best_max_depth = grid.best_estimator_.max_depth\n",
    "print(grid.best_score_, best_n_estimators,best_max_depth)"
   ]
  },
  {
   "cell_type": "code",
   "execution_count": null,
   "metadata": {},
   "outputs": [],
   "source": [
    "#модель №1 без учета дисбаланса\n",
    "model_1 = RandomForestClassifier(random_state = 42,n_estimators=30,max_depth = 7)\n",
    "model_1.fit(features_train,target_train)\n",
    "predictions = model_1.predict(features_valid)\n",
    "accuracy = accuracy_score(target_valid, predictions)\n",
    "print('Доля правильных ответов:',accuracy)\n",
    "print('Средняя квадратичная ошибка',mean_squared_error(target_valid, predictions))\n",
    "print('Коэфициент детерминации',r2_score(target_valid, predictions))\n",
    "print('Средняя абсалютная ошибка',mean_absolute_error(target_valid, predictions))\n",
    "print('F1-мера:',f1_score(target_valid, predictions))\n",
    "probabilities_valid = model_1.predict_proba(features_valid)\n",
    "probabilities_one_valid = probabilities_valid[:, 1]\n",
    "print('AUS_ROC:',roc_auc_score(target_valid,probabilities_one_valid))"
   ]
  },
  {
   "cell_type": "code",
   "execution_count": null,
   "metadata": {},
   "outputs": [],
   "source": [
    "#кросс-валидация модели №1\n",
    "res = cross_val_score(model_1,features_valid,target_valid, cv=6)\n",
    "print(np.mean(res))"
   ]
  },
  {
   "cell_type": "markdown",
   "metadata": {},
   "source": [
    "## Вывод по модели № 1 "
   ]
  },
  {
   "cell_type": "markdown",
   "metadata": {},
   "source": [
    "Обучена модель без учёта дисбаланса.\n",
    "Выбраны оптимальные гиперпараметры для увеличения доли правильных ответов.\n",
    "Несмотря на то, что доля правильных ответов составляет более 70 %, при дисбалансе классов данный метрика не является показательной. \n",
    "Поэтому были изучены иные метрики, которые показали, что:\n",
    "      в среднем модель ошибется в 25 случаях из 100 возможных, \n",
    "      качество модели ниже среднего, об этом говорит отрицательный коэфициент детерминации, \n",
    "      F1-мера, являясь агрегирующей метрикой полноты и точности модели, дает результат, что модель высокого качества,\n",
    "      и сравнивая F1-меру с AUS_ROC, то можно заметить, что они примерно одинаковы,однако вторая метрика чуть больше на 9%,\n",
    "      и обе метрики показывает высокое качество классификатора."
   ]
  },
  {
   "cell_type": "markdown",
   "metadata": {},
   "source": [
    "# 3. Борьба с дисбалансом"
   ]
  },
  {
   "cell_type": "code",
   "execution_count": null,
   "metadata": {},
   "outputs": [],
   "source": [
    "#взвешивание классов\n",
    "target.value_counts()"
   ]
  },
  {
   "cell_type": "code",
   "execution_count": null,
   "metadata": {},
   "outputs": [],
   "source": [
    "#уменьшение выборки \n",
    "def downsample(features, target, fraction):\n",
    "    features_zeros = features[target == 0]\n",
    "    features_ones = features[target == 1]\n",
    "    target_zeros = target[target == 0]\n",
    "    target_ones = target[target == 1]\n",
    "\n",
    "    features_downsampled = pd.concat(\n",
    "        [features_zeros.sample(frac=fraction, random_state=12345)] + [features_ones])\n",
    "    target_downsampled = pd.concat(\n",
    "        [target_zeros.sample(frac=fraction, random_state=12345)] + [target_ones])\n",
    "    \n",
    "    features_downsampled, target_downsampled = shuffle(\n",
    "        features_downsampled, target_downsampled, random_state=12345)\n",
    "    \n",
    "    return features_downsampled, target_downsampled"
   ]
  },
  {
   "cell_type": "code",
   "execution_count": null,
   "metadata": {},
   "outputs": [],
   "source": [
    "#применение функции\n",
    "features,target = downsample(features,target,0.27)"
   ]
  },
  {
   "cell_type": "code",
   "execution_count": null,
   "metadata": {},
   "outputs": [],
   "source": [
    "#проверка веса классов\n",
    "target.value_counts()"
   ]
  },
  {
   "cell_type": "code",
   "execution_count": null,
   "metadata": {},
   "outputs": [],
   "source": [
    "#разделение на выборки \n",
    "features_t,features_valid,target_t,target_valid = train_test_split(features,target,test_size = 0.2,random_state = 42)\n",
    "features_train,features_test,target_train,target_test = train_test_split(features_t,target_t,test_size = 0.2,random_state = 42)"
   ]
  },
  {
   "cell_type": "markdown",
   "metadata": {},
   "source": [
    "Проведена проверка классов на дисбаланс, \n",
    "результат показал, что класс с положительным значением превышает клас с отрицательным значением примерно в 4 раза, \n",
    "применена функция по уменьшению выборки, \n",
    "классы сбалансированы, что значит количество значений положительного и отрицательного класса примерно равно"
   ]
  },
  {
   "cell_type": "markdown",
   "metadata": {},
   "source": [
    "# Модель  № 2"
   ]
  },
  {
   "cell_type": "code",
   "execution_count": null,
   "metadata": {},
   "outputs": [],
   "source": [
    "#выбор гиперпараметров для модели №2\n",
    "n_estimators_array = [1, 3, 5, 7, 10, 15,20,25,30]\n",
    "max_depth_array = [1, 3, 5, 7, 10, 15,20,25]\n",
    "model_2 = RandomForestClassifier(random_state = 42)\n",
    "grid = GridSearchCV(model_2, param_grid={'n_estimators': n_estimators_array,'max_depth': max_depth_array})\n",
    "grid.fit(features_train,target_train)\n",
    "best_n_estimators = grid.best_estimator_.n_estimators\n",
    "best_max_depth = grid.best_estimator_.max_depth\n",
    "print(grid.best_score_, best_n_estimators,best_max_depth)"
   ]
  },
  {
   "cell_type": "code",
   "execution_count": null,
   "metadata": {},
   "outputs": [],
   "source": [
    "#модель №2\n",
    "model1 = RandomForestClassifier(random_state = 42,max_depth = 7,n_estimators=30)\n",
    "model1.fit(features_train,target_train)\n",
    "predictions = model1.predict(features_valid)\n",
    "accuracy = accuracy_score(target_valid, predictions)\n",
    "print('Доля правильных ответов:',accuracy)\n",
    "print('Средняя квадратичная ошибка',mean_squared_error(target_valid, predictions))\n",
    "print('Коэфициент детерминации',r2_score(target_valid, predictions))\n",
    "print('Средняя абсалютная ошибка',mean_absolute_error(target_valid, predictions))\n",
    "print('F1-мера:',f1_score(target_valid, predictions))"
   ]
  },
  {
   "cell_type": "code",
   "execution_count": null,
   "metadata": {},
   "outputs": [],
   "source": [
    "#кросс-валидация модели №2\n",
    "res = cross_val_score(model_2,features_valid,target_valid, cv=17)\n",
    "print(np.mean(res))"
   ]
  },
  {
   "cell_type": "markdown",
   "metadata": {},
   "source": [
    "Обучена модель №2 обучена на сбалансированных данных.\n",
    "Выбраны оптимальные гиперпараметры для увеличения доли правильных ответов.\n",
    "Были изучены метрики, которые показали, что:\n",
    "      в среднем модель ошибется в 25 случаях из 100 возможных, \n",
    "      качество модели ниже среднего, об этом говорит отрицательный коэфициент детерминации, \n",
    "      однако точность и полнота модели в совокупности дают высокий показатель F1-метрики,а именно 0.73\n",
    "      кросс-валидация оказалась ненамного ниже,чем доля правильных ответов,\n",
    "      метрику AUC-ROC изучить на данной модели не удалось."
   ]
  },
  {
   "cell_type": "markdown",
   "metadata": {},
   "source": [
    "# Модель  № 3"
   ]
  },
  {
   "cell_type": "code",
   "execution_count": null,
   "metadata": {},
   "outputs": [],
   "source": [
    "#выбор значения гиперпараметра max_depth для модели № 3\n",
    "max_depth_array = [1, 3, 5,6, 7, 10, 15,20,25]\n",
    "model_3 = DecisionTreeClassifier()\n",
    "grid = GridSearchCV(model_3, param_grid={'max_depth': max_depth_array})\n",
    "grid.fit(features_train,target_train)\n",
    "best_max_depth = grid.best_estimator_.max_depth\n",
    "print(grid.best_score_, best_max_depth)"
   ]
  },
  {
   "cell_type": "code",
   "execution_count": null,
   "metadata": {},
   "outputs": [],
   "source": [
    "#модель №3\n",
    "model_3 = DecisionTreeClassifier(random_state = 123,max_depth = 5)\n",
    "model_3.fit(features_t,target_t)\n",
    "predictions = model_3.predict(features_valid)\n",
    "accuracy = accuracy_score(target_valid, predictions)\n",
    "print('Доля правильных ответов:',accuracy)\n",
    "print('Средняя квадратичная ошибка',mean_squared_error(target_valid, predictions))\n",
    "print('Коэфициент детерминации',r2_score(target_valid, predictions))\n",
    "print('Средняя абсалютная ошибка',mean_absolute_error(target_valid, predictions))\n",
    "print('F1-мера:',f1_score(target_valid, predictions))\n",
    "probabilities_valid = model_1.predict_proba(features_valid)\n",
    "probabilities_one_valid = probabilities_valid[:, 1]\n",
    "print('AUS_ROC:',roc_auc_score(target_valid,probabilities_one_valid))"
   ]
  },
  {
   "cell_type": "code",
   "execution_count": null,
   "metadata": {},
   "outputs": [],
   "source": [
    "#auc_roc\n",
    "probabilities_valid = model_3.predict_proba(features_valid)\n",
    "probabilities_one_valid = probabilities_valid[:, 1]\n",
    "\n",
    "auc_roc = roc_auc_score(target_valid,probabilities_one_valid)\n",
    "print(auc_roc)"
   ]
  },
  {
   "cell_type": "code",
   "execution_count": null,
   "metadata": {},
   "outputs": [],
   "source": [
    "#кросс-валидация модели №3\n",
    "res = cross_val_score(model_3,features_valid,target_valid, cv=10)\n",
    "print(np.mean(res))"
   ]
  },
  {
   "cell_type": "markdown",
   "metadata": {},
   "source": [
    "Обучена модель №3 обучена на сбалансированных данных.\n",
    "Выбраны оптимальные гиперпараметры для увеличения доли правильных ответов.\n",
    "Были изучены метрики, которые показали, что:\n",
    "      в среднем модель ошибется в 26 случаях из 100 возможных, \n",
    "      качество модели ниже среднего, об этом говорит отрицательный коэфициент детерминации, \n",
    "      однако точность и полнота модели в совокупности дают высокий показатель F1-метрики,а именно 0.72\n",
    "      кросс-валидация оказалась ниже,чем доля правильных ответов, что может свидетельствовать о том, что модель ошибется в 32         случаях их 100 возможных,\n",
    "      высокий показатель площади под ROC-кривой показывает, что модель обучена качественно.\n",
    "      F1-мера на 13 % ниже, чем площадь под кривой ошибок, однако оба показателя дают информацию о качестве данного                   классификаторе."
   ]
  },
  {
   "cell_type": "markdown",
   "metadata": {},
   "source": [
    "# Модель № 4"
   ]
  },
  {
   "cell_type": "code",
   "execution_count": null,
   "metadata": {},
   "outputs": [],
   "source": [
    "#выбор значения гиперпараметра для модели № 4\n",
    "max_iter_array = [1, 3, 5, 7, 10, 15,20,25,100]\n",
    "model_4 = LogisticRegression()\n",
    "grid = GridSearchCV(model_4, param_grid={'max_iter': max_iter_array})\n",
    "grid.fit(features_train,target_train)\n",
    "best_max_iter = grid.best_estimator_.max_iter\n",
    "print(grid.best_score_, best_max_depth)"
   ]
  },
  {
   "cell_type": "code",
   "execution_count": null,
   "metadata": {},
   "outputs": [],
   "source": [
    "#модель №4\n",
    "model_4 = LogisticRegression(random_state = 42,max_iter=5)\n",
    "model_4.fit(features_train,target_train)\n",
    "predictions = model_4.predict(features_valid)\n",
    "accuracy = accuracy_score(target_valid, predictions)\n",
    "print('Доля правильных ответов:',accuracy)\n",
    "print('Средняя квадратичная ошибка',mean_squared_error(target_valid, predictions))\n",
    "print('Коэфициент детерминации',r2_score(target_valid, predictions))\n",
    "print('Средняя абсалютная ошибка',mean_absolute_error(target_valid, predictions))\n",
    "print('F1-мера:',f1_score(target_valid, predictions))\n",
    "probabilities_valid = model_4.predict_proba(features_valid)\n",
    "probabilities_one_valid = probabilities_valid[:, 1]\n",
    "print('AUS_ROC:',roc_auc_score(target_valid,probabilities_one_valid))"
   ]
  },
  {
   "cell_type": "code",
   "execution_count": null,
   "metadata": {},
   "outputs": [],
   "source": [
    "#кросс-валидация модели №4\n",
    "res = cross_val_score(model_4,features_valid,target_valid, cv=17)\n",
    "print(np.mean(res))"
   ]
  },
  {
   "cell_type": "markdown",
   "metadata": {},
   "source": [
    "Обучена модель №4 обучена на сбалансированных данных.\n",
    "Выбраны оптимальные гиперпараметры для увеличения доли правильных ответов.\n",
    "Были изучены метрики, которые показали, что:\n",
    "      в среднем модель ошибется в 47 случаях из 100 возможных, \n",
    "      качество модели низкое, об этом говорит самый никий отрицательный коэфициент детерминации из всех изученных моделей, \n",
    "      точность и полнота модели в совокупности дают низкий показатель F1-метрики,а именно 0.5,\n",
    "      кросс-валидация оказалась ниже,чем доля правильных ответов, что может свидетельствовать о том, что модель ошибется в 47         случаях их 100 возможных,\n",
    "      данная модель имеет все показатели хуже,чем у иных моделей,\n",
    "      F1-мера на 3.5 % выше, чем площадь под кривой ошибок, однако оба показателя дают информацию о низком качестве данного                   классификаторе"
   ]
  },
  {
   "cell_type": "markdown",
   "metadata": {},
   "source": [
    "# Вывод по моделям"
   ]
  },
  {
   "cell_type": "markdown",
   "metadata": {},
   "source": [
    "Для каждой модели были выбраны оптимальные гперпараметры, и подсчитаны ее показатели.\n",
    "\n",
    "Качество модели №3 показало наилучший результат со следующими показателями :\n",
    "Средняя квадратичная ошибка показывает, что в средней из 100 случаев 26 будут будут ошибочны, это же утверждение подтверждает и иной показатель, а именно доля правильных ответов, в данной модели он составляет 0.74. \n",
    "Отрицательный коэфициент детерминации говорит о том, что качество модели еще есть куда улучшать, однако относительно иных моделей коэфициент данной модели лучше, чем у остальных моделей.  \n",
    "F1-мера с результатом 0.75 показывает, что полнота и точность модели находяться на достаточно высоком уровне\n",
    "Применена проверка на кросс-валидации того, чтобы оценить ожидаемый уровень соответствия модели данным, независимым от тех данных, на которых модель тренировалась. На модели № 3 кросс-валидация показала наибольшую долю правильных отевов, равную 0.72\n",
    "\n",
    "Исследование метрики AUC-ROC показало, что наилучшее качество содержится в модели № 3, данную метрику на модели №1 и №2 посмотреть не удалось\n"
   ]
  },
  {
   "cell_type": "markdown",
   "metadata": {},
   "source": [
    "# 4. Тестирование модели"
   ]
  },
  {
   "cell_type": "code",
   "execution_count": null,
   "metadata": {},
   "outputs": [],
   "source": [
    "#проверка модели №3 на тестовой выборке \n",
    "predictions = model_3.predict(features_test)\n",
    "print('Доля правильных ответов:',accuracy_score(target_test, predictions))\n",
    "print('Средняя квадратичная ошибка',mean_squared_error(target_test, predictions))\n",
    "print('Коэфициент детерминации',r2_score(target_test, predictions))\n",
    "print('Средняя абсалютная ошибка',mean_absolute_error(target_test, predictions))\n",
    "print('F1-мера:',f1_score(target_test, predictions))"
   ]
  },
  {
   "cell_type": "markdown",
   "metadata": {},
   "source": [
    "На тестовой выборке показатели ненамного выше, чем на обучающей, что говорит о том, что модель слегка переучена"
   ]
  },
  {
   "cell_type": "markdown",
   "metadata": {},
   "source": [
    "## Проверка модели на адекватность"
   ]
  },
  {
   "cell_type": "code",
   "execution_count": null,
   "metadata": {},
   "outputs": [],
   "source": [
    "dummy_clf = DummyClassifier(strategy=\"most_frequent\")\n",
    "dummy_clf.fit(features_train,target_train)\n",
    "predictions = dummy_clf.predict(features_valid)\n",
    "print('Доля правильных ответов:',accuracy_score(target_valid, predictions))\n",
    "print('Средняя квадратичная ошибка',mean_squared_error(target_valid, predictions))\n",
    "print('Коэфициент детерминации',r2_score(target_valid, predictions))\n",
    "print('Средняя абсалютная ошибка',mean_absolute_error(target_valid, predictions))\n",
    "print('F1-мера:',f1_score(target_valid, predictions))"
   ]
  },
  {
   "cell_type": "markdown",
   "metadata": {},
   "source": [
    "Для проверки модели на адекватность был использован классификатор в качестве простой базовой линии \n",
    "для сравнения с реальными классификаторами. \n",
    "Проверка показала, что модель № 3 дает \n",
    "      большую долю правильных ответов,а так же имеет лучшее качество модели исходя из каэфициента детерминации,и \n",
    "      более высокое значение точности и полноты модели, чем используемым для сравнения классификатор, \n",
    "тем самым доказывая адекватность модели."
   ]
  },
  {
   "cell_type": "markdown",
   "metadata": {},
   "source": [
    "# Общий вывод"
   ]
  },
  {
   "cell_type": "markdown",
   "metadata": {},
   "source": [
    "Открыт и изучен файл, в таблице содержаться данные о 10 тысячах клиентов.\n",
    "\n",
    "Данные разделены на признаки, 3 из которых качественных,10 количественных и 1 целевой признак.\n",
    "\n",
    "Данные были изучены на наличие пропусков и дубликатов.\n",
    "Строки с пропусками в данных о количестве недвижимости у клиента были удалены.\n",
    "Дубликаты отсутствуют.\n",
    "Удалены столбцы с данными об индексе,фамилии и уникальном индификаторе клиента.\n",
    "\n",
    "Данные разбиты на три выборки :обучающую,тестовую и валидационную в соотношении 60:20:20\n",
    "\n",
    "\n",
    "\n",
    "\n",
    "<font color=\"blue\">\n",
    "Модель №1 \n",
    "</font>\n",
    "\n",
    "\n",
    "Обучена модель без учёта дисбаланса.\n",
    "Выбраны оптимальные гиперпараметры для увеличения доли правильных ответов.\n",
    "Несмотря на то, что доля правильных ответов составляет более 70 %, при дисбалансе классов данный метрика не является показательной. \n",
    "Поэтому были изучены иные метрики, которые показали, что:\n",
    "      в среднем модель ошибется в 25 случаях из 100 возможных, \n",
    "      качество модели ниже среднего, об этом говорит отрицательный коэфициент детерминации, \n",
    "      F1-мера, являясь агрегирующей метрикой полноты и точности модели, дает результат, что модель высокого качества,\n",
    "      и сравнивая F1-меру с AUS_ROC, то можно заметить, что они примерно одинаковы,однако вторая метрика чуть больше на 9%,\n",
    "      и обе метрики показывает высокое качество классификатора.\n",
    "\n",
    "Проведена проверка классов на дисбаланс, результат показал, что класс с положительным значением превышает клас с отрицательным значением примерно в 4 раза, применена функция по уменьшению выборки, классы сбалансированы, что значит количество значений положительного и отрицательного класса примерно одинаково\n",
    "\n",
    "\n",
    "\n",
    "<font color=\"blue\">\n",
    "Модель №2\n",
    "</font>\n",
    "\n",
    "\n",
    "Обучена модель №2 обучена на сбалансированных данных.\n",
    "Выбраны оптимальные гиперпараметры для увеличения доли правильных ответов.\n",
    "Были изучены метрики, которые показали, что:\n",
    "      в среднем модель ошибется в 25 случаях из 100 возможных, \n",
    "      качество модели ниже среднего, об этом говорит отрицательный коэфициент детерминации, \n",
    "      однако точность и полнота модели в совокупности дают высокий показатель F1-метрики,а именно 0.73\n",
    "      кросс-валидация оказалась ненамного ниже,чем доля правильных ответов,\n",
    "      метрику AUC-ROC изучить на данной модели не удалось.\n",
    " \n",
    " \n",
    "      \n",
    "<font color=\"blue\">\n",
    "Модель №3\n",
    "</font>\n",
    "\n",
    "\n",
    "Обучена модель №3 обучена на сбалансированных данных.\n",
    "Выбраны оптимальные гиперпараметры для увеличения доли правильных ответов.\n",
    "Были изучены метрики, которые показали, что:\n",
    "      в среднем модель ошибется в 26 случаях из 100 возможных, \n",
    "      качество модели ниже среднего, об этом говорит отрицательный коэфициент детерминации, \n",
    "      однако точность и полнота модели в совокупности дают высокий показатель F1-метрики,а именно 0.72\n",
    "      кросс-валидация оказалась ниже,чем доля правильных ответов, что может свидетельствовать о том, что модель ошибется в 32         случаях их 100 возможных,\n",
    "      высокий показатель площади под ROC-кривой показывает, что модель обучена качественно.\n",
    "      F1-мера на 13 % ниже, чем площадь под кривой ошибок, однако оба показателя дают информацию о качестве данного                   классификаторе.\n",
    "     \n",
    "     \n",
    "      \n",
    "<font color=\"blue\">\n",
    "Модель №4 \n",
    "</font>\n",
    "\n",
    "\n",
    "Обучена модель №4 обучена на сбалансированных данных.\n",
    "Выбраны оптимальные гиперпараметры для увеличения доли правильных ответов.\n",
    "Были изучены метрики, которые показали, что:\n",
    "      в среднем модель ошибется в 47 случаях из 100 возможных, \n",
    "      качество модели низкое, об этом говорит самый никий отрицательный коэфициент детерминации из всех изученных моделей, \n",
    "      точность и полнота модели в совокупности дают низкий показатель F1-метрики,а именно 0.5,\n",
    "      кросс-валидация оказалась ниже,чем доля правильных ответов, что может свидетельствовать о том, что модель ошибется в 47         случаях их 100 возможных,\n",
    "      данная модель имеет все показатели хуже,чем у иных моделей,\n",
    "      F1-мера на 3.5 % выше, чем площадь под кривой ошибок, однако оба показателя дают информацию о низком качестве данного                   классификаторе\n",
    "\n",
    "\n",
    "\n",
    "Качество модели №3 показало наилучший результат со следующими показателями :\n",
    "Средняя квадратичная ошибка показывает, что в средней из 100 случаев 26 будут будут ошибочны, это же утверждение подтверждает и иной показатель, а именно доля правильных ответов, в данной модели он составляет 0.74. \n",
    "Отрицательный коэфициент детерминации говорит о том, что качество модели еще есть куда улучшать, однако относительно иных моделей коэфициент данной модели лучше, чем у остальных моделей.  \n",
    "F1-мера с результатом 0.75 показывает, что полнота и точность модели находяться на достаточно высоком уровне\n",
    "Применена проверка на кросс-валидации того, чтобы оценить ожидаемый уровень соответствия модели данным, независимым от тех данных, на которых модель тренировалась. На модели № 3 кросс-валидация показала наибольшую долю правильных отевов, равную 0.72\n",
    "\n",
    "Исследование метрики AUC-ROC показало, что в среднем F1-мера чуть ниже, чем AUC-ROC,однако они одинаково дают результат о качетве модели.\n",
    "\n",
    "На тестовой выборке показатели ненамного выше, чем на обучающей, что говорит о том, что модель слегка переучена\n",
    "\n",
    "Для проверки модели на адекватность был использован классификатор в качестве простой базовой линии \n",
    "для сравнения с реальными классификаторами. \n",
    "Проверка показала, что модель № 3 дает \n",
    "      большую долю правильных ответов,а так же имеет лучшее качество модели исходя из каэфициента детерминации,и \n",
    "      более высокое значение точности и полноты модели, чем используемым для сравнения классификатор, \n",
    "тем самым доказывая адекватность модели."
   ]
  }
 ],
 "metadata": {
  "kernelspec": {
   "display_name": "Python 3",
   "language": "python",
   "name": "python3"
  },
  "language_info": {
   "codemirror_mode": {
    "name": "ipython",
    "version": 3
   },
   "file_extension": ".py",
   "mimetype": "text/x-python",
   "name": "python",
   "nbconvert_exporter": "python",
   "pygments_lexer": "ipython3",
   "version": "3.7.6"
  }
 },
 "nbformat": 4,
 "nbformat_minor": 2
}
